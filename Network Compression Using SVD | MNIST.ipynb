{
 "cells": [
  {
   "cell_type": "code",
   "execution_count": 24,
   "id": "4666692d-93a9-4108-a326-5c0d164260cb",
   "metadata": {},
   "outputs": [],
   "source": [
    "import numpy as np\n",
    "import tensorflow as tf\n",
    "import matplotlib.pyplot as plt\n",
    "import pickle\n",
    "import itertools\n",
    "import random\n",
    "import librosa"
   ]
  },
  {
   "cell_type": "code",
   "execution_count": 25,
   "id": "74d42f3b-e43c-49a8-aa9e-e9e681d49e6c",
   "metadata": {},
   "outputs": [],
   "source": [
    "mnist = tf.keras.datasets.mnist\n",
    "(X_train, Y_train), (X_test, Y_test) = mnist.load_data()\n",
    "\n",
    "X_train = X_train/255\n",
    "X_test = X_test/255"
   ]
  },
  {
   "cell_type": "markdown",
   "id": "b2799c2b-b0dc-49cb-bcb8-b02e13382b54",
   "metadata": {
    "tags": []
   },
   "source": [
    "# Network Compression Using SVD"
   ]
  },
  {
   "cell_type": "code",
   "execution_count": 26,
   "id": "578d7d8d-1c96-4e4b-815b-991b699ffa30",
   "metadata": {},
   "outputs": [],
   "source": [
    "model_baseline = tf.keras.Sequential([\n",
    "    tf.keras.layers.Flatten(input_shape=(28, 28)),\n",
    "    tf.keras.layers.Dense(1024, activation='relu', kernel_initializer=tf.keras.initializers.HeNormal()),\n",
    "    tf.keras.layers.Dense(1024, activation='relu', kernel_initializer=tf.keras.initializers.HeNormal()),\n",
    "    tf.keras.layers.Dense(1024, activation='relu', kernel_initializer=tf.keras.initializers.HeNormal()),\n",
    "    tf.keras.layers.Dense(1024, activation='relu', kernel_initializer=tf.keras.initializers.HeNormal()),\n",
    "    tf.keras.layers.Dense(1024, activation='relu', kernel_initializer=tf.keras.initializers.HeNormal()),\n",
    "    tf.keras.layers.Dense(10, activation='softmax')\n",
    "])\n",
    "\n",
    "optimizer = tf.keras.optimizers.legacy.Adam(learning_rate=0.0001)\n",
    "model_baseline.compile(optimizer=optimizer, loss='sparse_categorical_crossentropy', metrics=['accuracy'])\n",
    "Accuracy_baseline = model_baseline.fit(X_train, Y_train, epochs=100, batch_size=128, validation_data=(X_test, Y_test))"
   ]
  },
  {
   "cell_type": "code",
   "execution_count": 37,
   "id": "23d18d70-e70f-4fcc-a6b6-895e9df3b8b5",
   "metadata": {
    "tags": []
   },
   "outputs": [],
   "source": [
    "[W0, B0] = model_baseline.layers[1].get_weights()\n",
    "[W1, B1] = model_baseline.layers[2].get_weights()\n",
    "[W2, B2] = model_baseline.layers[3].get_weights()\n",
    "[W3, B3] = model_baseline.layers[4].get_weights()\n",
    "[W4, B4] = model_baseline.layers[5].get_weights()\n",
    "[W5, B5] = model_baseline.layers[6].get_weights()"
   ]
  },
  {
   "cell_type": "code",
   "execution_count": 38,
   "id": "aab24bc7-4dc5-4bb8-a986-714d1791fa4d",
   "metadata": {},
   "outputs": [],
   "source": [
    "S0, U0, V0 = tf.linalg.svd(W0)\n",
    "S1, U1, V1 = tf.linalg.svd(W1)\n",
    "S2, U2, V2 = tf.linalg.svd(W2)\n",
    "S3, U3, V3 = tf.linalg.svd(W3)\n",
    "S4, U4, V4 = tf.linalg.svd(W4)"
   ]
  },
  {
   "cell_type": "code",
   "execution_count": 39,
   "id": "d4747fbe-cc5d-43f6-8296-52500b5c51e8",
   "metadata": {},
   "outputs": [],
   "source": [
    "def compressedWeights(D, U, S, V, W):\n",
    "    U = U[:,0:D]\n",
    "    S = tf.linalg.diag(S[0:D])\n",
    "    V = V[:,0:D]\n",
    "    return np.matmul(U, np.matmul(S, tf.transpose(V)))"
   ]
  },
  {
   "cell_type": "code",
   "execution_count": 40,
   "id": "8257c5eb-e9b5-41ef-872b-538397a78cbd",
   "metadata": {},
   "outputs": [],
   "source": [
    "def accuracyD(D, \n",
    "    U0, S0, V0, W0, B0, \n",
    "    U1, S1, V1, W1, B1, \n",
    "    U2, S2, V2, W2, B2, \n",
    "    U3, S3, V3, W3, B3, \n",
    "    U4, S4, V4, W4, B4):\n",
    "    \n",
    "    W0_D = compressedWeights(D, U0, S0, V0, W0)\n",
    "    W1_D = compressedWeights(D, U1, S1, V1, W1)\n",
    "    W2_D = compressedWeights(D, U2, S2, V2, W2)\n",
    "    W3_D = compressedWeights(D, U3, S3, V3, W3)\n",
    "    W4_D = compressedWeights(D, U4, S4, V4, W4)\n",
    "    \n",
    "    model_baseline.layers[1].set_weights([W0_D, B0])\n",
    "    model_baseline.layers[2].set_weights([W1_D, B1])\n",
    "    model_baseline.layers[3].set_weights([W2_D, B2])\n",
    "    model_baseline.layers[4].set_weights([W3_D, B3])\n",
    "    model_baseline.layers[5].set_weights([W4_D, B4])\n",
    "\n",
    "    Accuracy_D = model_baseline.evaluate(X_test, Y_test, verbose=1)[1]\n",
    "    \n",
    "    return Accuracy_D"
   ]
  },
  {
   "cell_type": "code",
   "execution_count": 37,
   "id": "927f6aa3-504c-4f45-97a6-67ed83cfcf9a",
   "metadata": {},
   "outputs": [
    {
     "name": "stdout",
     "output_type": "stream",
     "text": [
      "313/313 [==============================] - 1s 3ms/step - loss: 2.7562 - accuracy: 0.4156\n",
      "313/313 [==============================] - 1s 3ms/step - loss: 2.5121 - accuracy: 0.5190\n",
      "313/313 [==============================] - 1s 3ms/step - loss: 1.8801 - accuracy: 0.7006\n",
      "313/313 [==============================] - 1s 3ms/step - loss: 1.1933 - accuracy: 0.8497\n",
      "313/313 [==============================] - 1s 3ms/step - loss: 0.5567 - accuracy: 0.9280\n",
      "313/313 [==============================] - 1s 3ms/step - loss: 0.1338 - accuracy: 0.9842\n"
     ]
    }
   ],
   "source": [
    "# Accuracy for D = 10, 20, 50, 100, 200\n",
    "A10 = accuracyD(10, U0, S0, V0, W0, B0, U1, S1, V1, W1, B1, U2, S2, V2, W2, B2, U3, S3, V3, W3, B3, U4, S4, V4, W4, B4)\n",
    "A20 = accuracyD(20, U0, S0, V0, W0, B0, U1, S1, V1, W1, B1, U2, S2, V2, W2, B2, U3, S3, V3, W3, B3, U4, S4, V4, W4, B4)\n",
    "A50 = accuracyD(50, U0, S0, V0, W0, B0, U1, S1, V1, W1, B1, U2, S2, V2, W2, B2, U3, S3, V3, W3, B3, U4, S4, V4, W4, B4)\n",
    "A100 = accuracyD(100, U0, S0, V0, W0, B0, U1, S1, V1, W1, B1, U2, S2, V2, W2, B2, U3, S3, V3, W3, B3, U4, S4, V4, W4, B4)\n",
    "A200 = accuracyD(200, U0, S0, V0, W0, B0, U1, S1, V1, W1, B1, U2, S2, V2, W2, B2, U3, S3, V3, W3, B3, U4, S4, V4, W4, B4)\n",
    "\n",
    "# Accuracy for D_Full \n",
    "W0_D = compressedWeights(784, U0, S0, V0, W0)\n",
    "W1_D = compressedWeights(1024, U1, S1, V1, W1)\n",
    "W2_D = compressedWeights(1024, U2, S2, V2, W2)\n",
    "W3_D = compressedWeights(1024, U3, S3, V3, W3)\n",
    "W4_D = compressedWeights(1024, U4, S4, V4, W4)\n",
    "    \n",
    "model_baseline.layers[1].set_weights([W0_D, B0])\n",
    "model_baseline.layers[2].set_weights([W1_D, B1])\n",
    "model_baseline.layers[3].set_weights([W2_D, B2])\n",
    "model_baseline.layers[4].set_weights([W3_D, B3])\n",
    "model_baseline.layers[5].set_weights([W4_D, B4])\n",
    "\n",
    "Afull = model_baseline.evaluate(X_test, Y_test, verbose=1)[1]"
   ]
  },
  {
   "cell_type": "code",
   "execution_count": 42,
   "id": "d7559c58-54e1-4e5d-9fc4-43aa6d453514",
   "metadata": {},
   "outputs": [
    {
     "data": {
      "text/plain": [
       "Text(0, 0.5, 'Test Accuracy')"
      ]
     },
     "execution_count": 42,
     "metadata": {},
     "output_type": "execute_result"
    },
    {
     "data": {
      "image/png": "[encoded data removed]",
      "text/plain": [
       "<Figure size 640x480 with 1 Axes>"
      ]
     },
     "metadata": {},
     "output_type": "display_data"
    }
   ],
   "source": [
    "accub = Accuracy_baseline.history['val_accuracy']\n",
    "\n",
    "plt.figure()\n",
    "plt.plot(accub)\n",
    "plt.title('Accuracy of Baseline Model')\n",
    "plt.xlabel('Epoch')\n",
    "plt.ylabel('Test Accuracy')"
   ]
  },
  {
   "cell_type": "code",
   "execution_count": 53,
   "id": "911b2a5d-4ca8-4630-a5b7-933b1c4713b8",
   "metadata": {},
   "outputs": [
    {
     "data": {
      "image/png": "[encoded data removed]",
      "text/plain": [
       "<Figure size 640x480 with 1 Axes>"
      ]
     },
     "metadata": {},
     "output_type": "display_data"
    }
   ],
   "source": [
    "D = [10, 20, 50, 100, 200, 1024]\n",
    "y = [A10, A20, A50, A100, A200, Afull]\n",
    "plt.figure()\n",
    "plt.bar(range(len(D)), y)\n",
    "plt.xticks(range(len(D)), D)\n",
    "plt.xlabel('D')\n",
    "plt.ylabel('Accuracy value')\n",
    "plt.title('Weight Compression effect on Accuracy')\n",
    "for i, height in enumerate(y):\n",
    "    plt.text(i, height, '{:.3f}'.format(height), ha='center', va='bottom')\n"
   ]
  },
  {
   "cell_type": "code",
   "execution_count": 27,
   "id": "44856277-0e23-4cd9-a9cf-815914c55a7c",
   "metadata": {
    "tags": []
   },
   "outputs": [
    {
     "name": "stdout",
     "output_type": "stream",
     "text": [
      "Number of trainable parameters: 5012490\n"
     ]
    }
   ],
   "source": [
    "trainable_params = int(sum([tf.reduce_prod(w.shape) for w in model_baseline.trainable_variables]))\n",
    "print(\"Number of trainable parameters:\", trainable_params)"
   ]
  },
  {
   "cell_type": "code",
   "execution_count": 28,
   "id": "81c84e5c-b8c7-46d4-bde0-8ec1545cb588",
   "metadata": {
    "tags": []
   },
   "outputs": [],
   "source": [
    "def compressesParameterCount(D):\n",
    "    return (784*D) + (D*1024) + (4*(1024*D)) + (4*(D*1024)) + (1024*10) "
   ]
  },
  {
   "cell_type": "code",
   "execution_count": 29,
   "id": "5d53f84e-7816-4ddb-90b3-1d65566b53f0",
   "metadata": {
    "tags": []
   },
   "outputs": [],
   "source": [
    "P10 = compressesParameterCount(10)\n",
    "P20 = compressesParameterCount(20)\n",
    "P50 = compressesParameterCount(50)\n",
    "P100 = compressesParameterCount(100)\n",
    "P200 = compressesParameterCount(200)"
   ]
  },
  {
   "cell_type": "code",
   "execution_count": 35,
   "id": "6325d164-b81c-4d30-b2e6-5b2ad17afe17",
   "metadata": {
    "tags": []
   },
   "outputs": [
    {
     "data": {
      "image/png": "[encoded data removed]",
      "text/plain": [
       "<Figure size 640x480 with 1 Axes>"
      ]
     },
     "metadata": {},
     "output_type": "display_data"
    }
   ],
   "source": [
    "# D = [10, 20, 50, 100, 200, 1024]\n",
    "D = ['10', '20', '50', '100', '200', 'Dfull']\n",
    "y = [P10, P20, P50, P100, P200, trainable_params]\n",
    "plt.figure()\n",
    "plt.bar(range(len(D)), y)\n",
    "plt.xticks(range(len(D)), D)\n",
    "plt.xlabel('D')\n",
    "plt.ylabel('# of Parameters')\n",
    "plt.title('Weight Compression effect on # of parameters')\n",
    "for i, height in enumerate(y):\n",
    "    plt.text(i, height, '{:.0f}'.format(height), ha='center', va='bottom')"
   ]
  },
  {
   "cell_type": "markdown",
   "id": "19c46d30-b7e5-4fdd-8960-968ca09eb9f1",
   "metadata": {},
   "source": [
    "As we compress the network, the count of trainable parameters decreases. The extent of this reduction depends on the value of D: a lower D results in more significant compression and fewer parameters to store in memory. However, this reduction comes with a trade-off, as the accuracy tends to decrease compared to the baseline model.\n",
    "\n",
    "Nonetheless, there exists an optimal compression value, D, which decreases the parameter count while maintaining comparable accuracy. In our specific scenario, when D is set to 200, the accuracy remains around 92%, while the number of parameters is reduced to only one-third of what the baseline model has."
   ]
  },
  {
   "cell_type": "markdown",
   "id": "40769d22-1b64-4a84-874b-debcf7aa594c",
   "metadata": {
    "jp-MarkdownHeadingCollapsed": true,
    "tags": []
   },
   "source": [
    "# Part 2\n",
    "\n",
    "A new network is defined whose weight matrices W(l) are factorized. In this new network, W(l) is not estimated directly anymore, but its factor matrices, to reconstruct $W^{(l)}$ as follows: $$W^{(l)} = U^{(l)}V^{(l)^⊤}$$\n",
    "\n",
    "Here it is to be noted that $U$ and $V$ are the new variables to be estimate via optimization."
   ]
  },
  {
   "cell_type": "code",
   "execution_count": 43,
   "id": "4f587ea9-6a0d-43c5-a4a2-e80726c1902b",
   "metadata": {},
   "outputs": [],
   "source": [
    "class factorizedWeightLayer(tf.keras.layers.Layer):\n",
    "    def __init__(self, out_dim, U_init, S_init, V_init, B_init):\n",
    "        super(factorizedWeightLayer, self).__init__()\n",
    "        self.out_dim = out_dim\n",
    "        self.U_init = U_init\n",
    "        self.S_init = S_init\n",
    "        self.V_init = V_init\n",
    "        self.B_init = B_init\n",
    "    \n",
    "    def build(self, input_shape):\n",
    "        # print(input_shape.shape)\n",
    "        VT_init = np.matmul(self.S_init, tf.transpose(self.V_init))\n",
    "        self.U = self.add_weight(shape=(input_shape[-1], 20),\n",
    "                                 initializer=tf.keras.initializers.Constant(self.U_init),\n",
    "                                 trainable=True)\n",
    "        self.VT = self.add_weight(shape=(20, self.out_dim),\n",
    "                                  initializer=tf.keras.initializers.Constant(VT_init),\n",
    "                                  trainable=True)\n",
    "        self.bias = self.add_weight(shape=(self.out_dim),\n",
    "                                    initializer=tf.keras.initializers.Constant(self.B_init),\n",
    "                                    trainable=True)\n",
    "        \n",
    "    def call(self, inputs):\n",
    "        W = tf.matmul(self.U, self.VT)\n",
    "        result = tf.nn.relu(tf.matmul(inputs, W) + self.bias)\n",
    "        return result"
   ]
  },
  {
   "cell_type": "code",
   "execution_count": 114,
   "id": "6599518b-b2d1-4865-9553-520b359d846b",
   "metadata": {},
   "outputs": [],
   "source": [
    "# Model with factorized weight matrix \n",
    "D = 20\n",
    "model = tf.keras.Sequential([\n",
    "    tf.keras.layers.Flatten(input_shape=(28, 28)),\n",
    "    factorizedWeightLayer(1024, U0[:,0:D], tf.linalg.diag(S0[0:D]), V0[:,0:D], B0),\n",
    "    factorizedWeightLayer(1024, U1[:,0:D], tf.linalg.diag(S1[0:D]), V1[:,0:D], B1),\n",
    "    factorizedWeightLayer(1024, U2[:,0:D], tf.linalg.diag(S2[0:D]), V2[:,0:D], B2),\n",
    "    factorizedWeightLayer(1024, U3[:,0:D], tf.linalg.diag(S3[0:D]), V3[:,0:D], B3),\n",
    "    factorizedWeightLayer(1024, U4[:,0:D], tf.linalg.diag(S4[0:D]), V4[:,0:D], B4),\n",
    "    tf.keras.layers.Dense(10, activation='softmax')\n",
    "])"
   ]
  },
  {
   "cell_type": "code",
   "execution_count": null,
   "id": "b1a897af-6631-4a54-82af-d081f333b03d",
   "metadata": {},
   "outputs": [],
   "source": [
    "optimizer = tf.keras.optimizers.legacy.Adam(learning_rate=0.00001)\n",
    "model.compile(optimizer=optimizer, loss='sparse_categorical_crossentropy', metrics=['accuracy'])\n",
    "Accuracy = model.fit(X_train, Y_train, epochs=200, batch_size=128, validation_data=(X_test, Y_test))"
   ]
  },
  {
   "cell_type": "code",
   "execution_count": 116,
   "id": "8937aa51-e27f-4613-868c-2aa770a67844",
   "metadata": {},
   "outputs": [
    {
     "data": {
      "text/plain": [
       "Text(0, 0.5, 'Test Accuracy')"
      ]
     },
     "execution_count": 116,
     "metadata": {},
     "output_type": "execute_result"
    },
    {
     "data": {
      "image/png": "[encoded data removed]",
      "text/plain": [
       "<Figure size 640x480 with 1 Axes>"
      ]
     },
     "metadata": {},
     "output_type": "display_data"
    }
   ],
   "source": [
    "accu = Accuracy.history['val_accuracy']\n",
    "\n",
    "plt.figure()\n",
    "plt.plot(accu)\n",
    "plt.title('Accuracy Plot')\n",
    "plt.xlabel('Epoch')\n",
    "plt.ylabel('Test Accuracy')"
   ]
  },
  {
   "cell_type": "markdown",
   "id": "448990d4-280c-44e1-8400-478035b381d1",
   "metadata": {
    "jp-MarkdownHeadingCollapsed": true,
    "tags": []
   },
   "source": [
    "# Part 3\n",
    "\n",
    "This time, for the feedforward pass, $W^{(l)}$ is not used. Instead, at every iteration SVD is performed."
   ]
  },
  {
   "cell_type": "code",
   "execution_count": 44,
   "id": "39b24bfb-d491-4df9-a505-f2caffdf01d2",
   "metadata": {},
   "outputs": [],
   "source": [
    "class factorizedWeightSVD(tf.keras.layers.Layer):\n",
    "    def __init__(self, out_dim, W_init, B_init):\n",
    "        super(factorizedWeightSVD, self).__init__()\n",
    "        self.out_dim = out_dim\n",
    "        self.W_init = W_init\n",
    "        self.B_init = B_init\n",
    "    \n",
    "    def build(self, input_shape):\n",
    "        self.W = self.add_weight(shape=(input_shape[-1], self.out_dim),\n",
    "                                 initializer=tf.keras.initializers.Constant(self.W_init),\n",
    "                                 trainable=True)\n",
    "\n",
    "        self.bias = self.add_weight(shape=(self.out_dim),\n",
    "                                    initializer=tf.keras.initializers.Constant(self.B_init),\n",
    "                                    trainable=True)\n",
    "        \n",
    "    def call(self, inputs):\n",
    "        D = 20\n",
    "        S, U, V = tf.linalg.svd(self.W)\n",
    "        U = U[:,0:D]\n",
    "        S = tf.linalg.diag(S[0:D])\n",
    "        V = V[:,0:D]\n",
    "        W = tf.matmul(U, tf.matmul(S, tf.transpose(V)))\n",
    "        result = tf.nn.relu(tf.matmul(inputs, W) + self.bias)\n",
    "        return result"
   ]
  },
  {
   "cell_type": "code",
   "execution_count": 45,
   "id": "b613c78d-4c60-4c05-bb87-02092a0ef3c9",
   "metadata": {},
   "outputs": [],
   "source": [
    "# Model with factorized weight matrix \n",
    "\n",
    "model_SVD = tf.keras.Sequential([\n",
    "    tf.keras.layers.Flatten(input_shape=(28, 28)),\n",
    "    factorizedWeightSVD(1024, W0, B0),\n",
    "    factorizedWeightSVD(1024, W1, B1),\n",
    "    factorizedWeightSVD(1024, W2, B2),\n",
    "    factorizedWeightSVD(1024, W3, B3),\n",
    "    factorizedWeightSVD(1024, W4, B4),\n",
    "    tf.keras.layers.Dense(10, activation='softmax')\n",
    "])"
   ]
  },
  {
   "cell_type": "code",
   "execution_count": null,
   "id": "7351d191-7bc4-47c6-8418-1b70e0216cb8",
   "metadata": {},
   "outputs": [],
   "source": [
    "optimizer = tf.keras.optimizers.legacy.Adam(learning_rate=0.00001)\n",
    "model_SVD.compile(optimizer=optimizer, loss='sparse_categorical_crossentropy', metrics=['accuracy'])\n",
    "Accuracy_SVD = model_SVD.fit(X_train, Y_train, epochs=100, batch_size=128, validation_data=(X_test, Y_test))"
   ]
  },
  {
   "cell_type": "code",
   "execution_count": 47,
   "id": "97bcd5eb-da4d-4ff4-b530-6b5be97218d3",
   "metadata": {},
   "outputs": [
    {
     "data": {
      "text/plain": [
       "Text(0, 0.5, 'Test Accuracy')"
      ]
     },
     "execution_count": 47,
     "metadata": {},
     "output_type": "execute_result"
    },
    {
     "data": {
      "image/png": "[encoded data removed]",
      "text/plain": [
       "<Figure size 640x480 with 1 Axes>"
      ]
     },
     "metadata": {},
     "output_type": "display_data"
    }
   ],
   "source": [
    "accu_SVD = Accuracy_SVD.history['val_accuracy']\n",
    "\n",
    "plt.figure()\n",
    "plt.plot(accu_SVD)\n",
    "plt.title('Accuracy Plot of SVD model')\n",
    "plt.xlabel('Epoch')\n",
    "plt.ylabel('Test Accuracy')"
   ]
  },
  {
   "cell_type": "markdown",
   "id": "cf5229fd-c0fe-4fc2-93bf-54e70a94b7ac",
   "metadata": {
    "jp-MarkdownHeadingCollapsed": true,
    "tags": []
   },
   "source": [
    "# Question 4"
   ]
  },
  {
   "cell_type": "code",
   "execution_count": 15,
   "id": "9645e774-403a-437f-9675-2d03d8bc8162",
   "metadata": {},
   "outputs": [
    {
     "name": "stdout",
     "output_type": "stream",
     "text": [
      "(500, 22631)\n",
      "(200, 22631)\n"
     ]
    }
   ],
   "source": [
    "with open('trs.pkl', 'rb') as file:\n",
    "    trs_old = pickle.load(file)\n",
    "    \n",
    "with open('tes.pkl', 'rb') as file:\n",
    "    tes = pickle.load(file)\n",
    "\n",
    "trs = np.zeros((500, 22631))\n",
    "trs[:, :trs_old.shape[1]] = trs_old\n",
    "print(trs.shape)\n",
    "print(tes.shape)"
   ]
  },
  {
   "cell_type": "code",
   "execution_count": 16,
   "id": "246f6046-a31b-4dc2-a6fd-8080f17b0e00",
   "metadata": {},
   "outputs": [],
   "source": [
    "def PMatrix(trs, speaker):\n",
    "    a = speaker*10\n",
    "    b = speaker*10+10\n",
    "    combinations = list(itertools.combinations(range(a, b), 2))\n",
    "    p_matrix = []\n",
    "    for i in range(len(combinations)):\n",
    "        p = tf.concat([trs[combinations[i][0], :], trs[combinations[i][1], :]], axis=0)\n",
    "        p_matrix.append(p)\n",
    "\n",
    "    return tf.stack(p_matrix)"
   ]
  },
  {
   "cell_type": "code",
   "execution_count": 17,
   "id": "9917e31a-ab8e-4193-ae0f-e028298b3d5a",
   "metadata": {},
   "outputs": [],
   "source": [
    "def NMatrix(trs, speaker, N):\n",
    "    a = speaker*10\n",
    "    b = speaker*10+10\n",
    "    range1 = range(a, b)\n",
    "    range2 = [x for x in range(N) if x < a or x > b]\n",
    "\n",
    "    combinations = list(itertools.product(range1, range2))\n",
    "    n_matrix = []\n",
    "    for i in range(45):\n",
    "        combination = random.choice(combinations)\n",
    "        n = tf.concat([trs[combination[0], :], trs[combination[1], :]], axis=0)\n",
    "        n_matrix.append(n)\n",
    "    \n",
    "    return tf.stack(n_matrix)"
   ]
  },
  {
   "cell_type": "code",
   "execution_count": 18,
   "id": "68a73df0-4523-4b75-bae8-0d54f0b9b7d7",
   "metadata": {},
   "outputs": [
    {
     "name": "stdout",
     "output_type": "stream",
     "text": [
      "(50, 90, 45262)\n",
      "(20, 90, 45262)\n"
     ]
    }
   ],
   "source": [
    "matrix_train = []\n",
    "for speaker in range(50):\n",
    "    p_matrix = PMatrix(trs, speaker)\n",
    "    n_matrix = NMatrix(trs, speaker, 500)\n",
    "    \n",
    "    matrix_train.append(np.concatenate((p_matrix, n_matrix), axis=0))\n",
    "\n",
    "matrix_train = tf.stack(matrix_train)\n",
    "print(matrix_train.shape)\n",
    "\n",
    "matrix_test = []\n",
    "for speaker in range(20):\n",
    "    p_matrix = PMatrix(tes, speaker)\n",
    "    n_matrix = NMatrix(tes, speaker, 200)\n",
    "    \n",
    "    matrix_test.append(np.concatenate((p_matrix, n_matrix), axis=0))\n",
    "\n",
    "matrix_test = tf.stack(matrix_test)\n",
    "print(matrix_test.shape)"
   ]
  },
  {
   "cell_type": "code",
   "execution_count": 19,
   "id": "f5317df3-88c9-41eb-a748-c49f30c6ade9",
   "metadata": {
    "tags": []
   },
   "outputs": [
    {
     "name": "stdout",
     "output_type": "stream",
     "text": [
      "(4500, 2, 1, 22631)\n",
      "(1800, 2, 1, 22631)\n"
     ]
    }
   ],
   "source": [
    "X_train_matrix = np.reshape(matrix_train, (50 * 90, 2, 1, 22631))\n",
    "print(X_train_matrix.shape)\n",
    "\n",
    "X_test_matrix = np.reshape(matrix_test, (20 * 90, 2, 1, 22631)) #22631\n",
    "print(X_test_matrix.shape)"
   ]
  },
  {
   "cell_type": "code",
   "execution_count": 20,
   "id": "bb8e41e2-4841-4321-b949-8b78d48b9280",
   "metadata": {
    "tags": []
   },
   "outputs": [],
   "source": [
    "X_train_matrix  = tf.reshape(X_train_matrix, (4500, 2, 22631))\n",
    "stft_data_train = tf.signal.stft(X_train_matrix , frame_length=1024, frame_step=512)\n",
    "stft_data_train = tf.abs(stft_data_train)\n",
    "\n",
    "X_test_matrix  = tf.reshape(X_test_matrix, (1800, 2,22631)) #22631\n",
    "stft_data_test = tf.signal.stft(X_test_matrix , frame_length=1024, frame_step=512)\n",
    "stft_data_test = tf.abs(stft_data_test)"
   ]
  },
  {
   "cell_type": "code",
   "execution_count": 21,
   "id": "67eba594-5665-45a8-99ea-2373652ccfe4",
   "metadata": {
    "tags": []
   },
   "outputs": [],
   "source": [
    "positive_labels = np.ones((45,))\n",
    "negative_labels = np.zeros((45,))\n",
    "labels_train = np.tile(np.concatenate([positive_labels, negative_labels]), 50)\n",
    "labels_test = np.tile(np.concatenate([positive_labels, negative_labels]), 20)"
   ]
  },
  {
   "cell_type": "code",
   "execution_count": 22,
   "id": "462baeda-fc34-49c5-ac1b-57acc4f07bab",
   "metadata": {
    "tags": []
   },
   "outputs": [],
   "source": [
    "shared_network = tf.keras.Sequential()\n",
    "shared_network.add(tf.keras.layers.GRU(513, return_sequences=True))\n",
    "shared_network.add(tf.keras.layers.Dropout(rate = 0.2))\n",
    "shared_network.add(tf.keras.layers.GRU(513, return_sequences=False))\n",
    "# shared_network.add(tf.keras.layers.Dropout(rate = 0.2))\n",
    "# shared_network.add(tf.keras.layers.Dense(50, activation = 'relu'))\n",
    "\n",
    "sound_A_input = tf.keras.layers.Input((43, 513), name='sound_A')\n",
    "sound_B_input = tf.keras.layers.Input((43, 513), name='sound_B')\n",
    "\n",
    "feature_vector_A = shared_network(sound_A_input)\n",
    "feature_vector_B = shared_network(sound_B_input)\n",
    "\n",
    "dot_product = tf.matmul(feature_vector_A, tf.transpose(feature_vector_B))\n",
    "vect = tf.linalg.diag_part(dot_product)\n",
    "output = tf.keras.layers.Activation('sigmoid')(vect)\n",
    "output = tf.reshape(output, [-1, 1])\n",
    "\n",
    "siamese_model = tf.keras.models.Model(inputs=[sound_A_input, sound_B_input], outputs=output)"
   ]
  },
  {
   "cell_type": "code",
   "execution_count": null,
   "id": "7bd379a2-e2e5-4166-9e24-fc5dc05c4c55",
   "metadata": {
    "tags": []
   },
   "outputs": [],
   "source": [
    "optimizer = tf.keras.optimizers.legacy.Adam(learning_rate=0.0001)\n",
    "siamese_model.compile(optimizer=optimizer, loss='mse', metrics=[tf.keras.metrics.BinaryAccuracy()])\n",
    "Accuracy_siamese = siamese_model.fit([stft_data_train[:,0,:,:], stft_data_train[:,1,:,:]], labels_train, \n",
    "                                     epochs=70, batch_size=90,\n",
    "                                     validation_data=([stft_data_test[:,0,:,:], stft_data_test[:,1,:,:]], labels_test))"
   ]
  },
  {
   "cell_type": "code",
   "execution_count": 29,
   "id": "9ee97509-eccf-48c9-9c99-134da7387736",
   "metadata": {},
   "outputs": [
    {
     "data": {
      "text/plain": [
       "<matplotlib.legend.Legend at 0x2ff254510>"
      ]
     },
     "execution_count": 29,
     "metadata": {},
     "output_type": "execute_result"
    },
    {
     "data": {
      "image/png": "[encoded data removed]",
      "text/plain": [
       "<Figure size 640x480 with 1 Axes>"
      ]
     },
     "metadata": {},
     "output_type": "display_data"
    }
   ],
   "source": [
    "accu = Accuracy_siamese.history['val_binary_accuracy']\n",
    "accu_train = Accuracy_siamese.history['binary_accuracy']\n",
    "plt.figure()\n",
    "plt.plot(accu, label='Test Accuracy')\n",
    "plt.plot(accu_train, label='Train Accuracy')\n",
    "plt.title('Accuracy Plot')\n",
    "plt.xlabel('Epoch')\n",
    "plt.ylabel('Test Accuracy')\n",
    "plt.legend()"
   ]
  },
  {
   "cell_type": "markdown",
   "id": "8e63f15c-8b18-4fa8-b0f1-3fc261508758",
   "metadata": {
    "tags": []
   },
   "source": [
    "# Question 5"
   ]
  },
  {
   "cell_type": "markdown",
   "id": "44064e01-dc68-400b-bc91-812ba954b81e",
   "metadata": {
    "jp-MarkdownHeadingCollapsed": true,
    "tags": []
   },
   "source": [
    "## Train Data"
   ]
  },
  {
   "cell_type": "code",
   "execution_count": 3,
   "id": "fe9b6b7d-7936-46e2-acfa-f0947b7b5b94",
   "metadata": {
    "tags": []
   },
   "outputs": [
    {
     "name": "stdout",
     "output_type": "stream",
     "text": [
      "(1200, 178, 513)\n"
     ]
    }
   ],
   "source": [
    "directory = 'timit-homework/tr/'\n",
    "\n",
    "trn = []\n",
    "max_col = 0\n",
    "\n",
    "for i in range(1200):\n",
    "    filename = f'trn{i:04d}.wav' \n",
    "    file_path = directory + filename \n",
    "    audio_data, sr = librosa.load(file_path, sr=None)\n",
    "    \n",
    "    stft_data = librosa.stft(audio_data, n_fft=1024, hop_length=512)\n",
    "    magnitude_data = np.abs(stft_data)\n",
    "    \n",
    "    trn.append(magnitude_data)\n",
    "    \n",
    "    if max_col < len(magnitude_data[0]):\n",
    "        max_col = len(magnitude_data[0])\n",
    "\n",
    "padded_trn = []\n",
    "for magnitude_data in trn:\n",
    "    num_columns = len(magnitude_data[0])\n",
    "    if num_columns < max_col:\n",
    "        pad_width = max_col - num_columns\n",
    "        magnitude_data = np.pad(magnitude_data, ((0, 0), (0, pad_width)), mode='constant', constant_values=0)\n",
    "    \n",
    "    padded_trn.append(magnitude_data)\n",
    "\n",
    "padded_trn = tf.stack(padded_trn)\n",
    "padded_trn = np.transpose(padded_trn, (0, 2, 1))\n",
    "print(padded_trn.shape)"
   ]
  },
  {
   "cell_type": "code",
   "execution_count": 4,
   "id": "cba00063-c474-490c-b85f-933ab3fc1531",
   "metadata": {
    "tags": []
   },
   "outputs": [
    {
     "name": "stdout",
     "output_type": "stream",
     "text": [
      "(1200, 178, 513)\n",
      "(1200, 178, 513)\n"
     ]
    }
   ],
   "source": [
    "directory = 'timit-homework/tr/'\n",
    "\n",
    "trx = []\n",
    "X_cmplx = []\n",
    "max_col = 0\n",
    "\n",
    "for i in range(1200):\n",
    "    filename = f'trx{i:04d}.wav' \n",
    "    file_path = directory + filename \n",
    "    audio_data, sr = librosa.load(file_path, sr=None)\n",
    "    \n",
    "    stft_data = librosa.stft(audio_data, n_fft=1024, hop_length=512)\n",
    "    magnitude_data = np.abs(stft_data)\n",
    "    X_cmplx.append(stft_data)\n",
    "    trx.append(magnitude_data)\n",
    "    \n",
    "    if max_col < len(magnitude_data[0]):\n",
    "        max_col = len(magnitude_data[0])\n",
    "\n",
    "padded_trx = []\n",
    "for magnitude_data in trx:\n",
    "    num_columns = len(magnitude_data[0])\n",
    "    if num_columns < max_col:\n",
    "        pad_width = max_col - num_columns\n",
    "        magnitude_data = np.pad(magnitude_data, ((0, 0), (0, pad_width)), mode='constant', constant_values=0)\n",
    "    \n",
    "    padded_trx.append(magnitude_data)\n",
    "\n",
    "padded_X_cmplx = []\n",
    "for stft_data in X_cmplx:\n",
    "    num_columns = len(stft_data[0])\n",
    "    if num_columns < max_col:\n",
    "        pad_width = max_col - num_columns\n",
    "        stft_data = np.pad(stft_data, ((0, 0), (0, pad_width)), mode='constant', constant_values=0)\n",
    "    \n",
    "    padded_X_cmplx.append(stft_data)\n",
    "\n",
    "padded_trx = tf.stack(padded_trx)\n",
    "padded_trx = np.transpose(padded_trx, (0, 2, 1))\n",
    "print(padded_trx.shape)\n",
    "\n",
    "padded_X_cmplx = tf.stack(padded_X_cmplx)\n",
    "padded_X_cmplx = np.transpose(padded_X_cmplx, (0, 2, 1))\n",
    "print(padded_X_cmplx.shape)"
   ]
  },
  {
   "cell_type": "code",
   "execution_count": 5,
   "id": "9a11c188-7bbe-4277-9087-949b1ef5904f",
   "metadata": {
    "tags": []
   },
   "outputs": [
    {
     "name": "stdout",
     "output_type": "stream",
     "text": [
      "(1200, 178, 513)\n"
     ]
    }
   ],
   "source": [
    "directory = 'timit-homework/tr/'\n",
    "\n",
    "trs = []\n",
    "max_col = 0\n",
    "\n",
    "for i in range(1200):\n",
    "    filename = f'trs{i:04d}.wav' \n",
    "    file_path = directory + filename \n",
    "    audio_data, sr = librosa.load(file_path, sr=None)\n",
    "    \n",
    "    stft_data = librosa.stft(audio_data, n_fft=1024, hop_length=512)\n",
    "    magnitude_data = np.abs(stft_data)\n",
    "    \n",
    "    trs.append(magnitude_data)\n",
    "    \n",
    "    if max_col < len(magnitude_data[0]):\n",
    "        max_col = len(magnitude_data[0])\n",
    "\n",
    "padded_trs = []\n",
    "for magnitude_data in trs:\n",
    "    num_columns = len(magnitude_data[0])\n",
    "    if num_columns < max_col:\n",
    "        pad_width = max_col - num_columns\n",
    "        magnitude_data = np.pad(magnitude_data, ((0, 0), (0, pad_width)), mode='constant', constant_values=0)\n",
    "    \n",
    "    padded_trs.append(magnitude_data)\n",
    "\n",
    "padded_trs = tf.stack(padded_trs)\n",
    "padded_trs = np.transpose(padded_trs, (0, 2, 1))\n",
    "print(padded_trs.shape)"
   ]
  },
  {
   "cell_type": "markdown",
   "id": "96fd51f9-7920-485d-a30e-441697e8a517",
   "metadata": {
    "jp-MarkdownHeadingCollapsed": true,
    "tags": []
   },
   "source": [
    "## Validation Data"
   ]
  },
  {
   "cell_type": "code",
   "execution_count": 6,
   "id": "64c58e99-1b55-42a1-986b-c6fe126693a7",
   "metadata": {
    "tags": []
   },
   "outputs": [
    {
     "name": "stdout",
     "output_type": "stream",
     "text": [
      "(1200, 90727)\n",
      "(1200, 178, 513)\n"
     ]
    }
   ],
   "source": [
    "directory = 'timit-homework/v/'\n",
    "\n",
    "vs = []\n",
    "vs1 = []\n",
    "max_col = 0\n",
    "max_col1 = 0\n",
    "\n",
    "for i in range(1200):\n",
    "    filename = f'vs{i:04d}.wav' \n",
    "    file_path = directory + filename \n",
    "    audio_data, sr = librosa.load(file_path, sr=None)\n",
    "    \n",
    "    stft_data = librosa.stft(audio_data, n_fft=1024, hop_length=512)\n",
    "    magnitude_data = np.abs(stft_data)\n",
    "    \n",
    "    vs.append(audio_data)\n",
    "    vs1.append(magnitude_data)\n",
    "    \n",
    "    if max_col < len(audio_data):\n",
    "        max_col = len(audio_data)\n",
    "    \n",
    "    if max_col1 < len(magnitude_data[0]):\n",
    "        max_col1 = len(magnitude_data[0])\n",
    "\n",
    "padded_vs = []\n",
    "for audio_data in vs:\n",
    "    num_columns = len(audio_data)\n",
    "    if num_columns < max_col:\n",
    "        pad_width = max_col - num_columns\n",
    "        audio_data = np.pad(audio_data, (0, pad_width), mode='constant', constant_values=0)\n",
    "    \n",
    "    padded_vs.append(audio_data)\n",
    "\n",
    "padded_vs = tf.stack(padded_vs)\n",
    "print(padded_vs.shape)\n",
    "\n",
    "padded_vs1 = []\n",
    "for magnitude_data in vs1:\n",
    "    num_columns = len(magnitude_data[0])\n",
    "    if num_columns < max_col1:\n",
    "        pad_width = max_col1 - num_columns\n",
    "        magnitude_data = np.pad(magnitude_data, ((0, 0), (0, pad_width)), mode='constant', constant_values=0)\n",
    "    \n",
    "    padded_vs1.append(magnitude_data)\n",
    "\n",
    "padded_vs1 = tf.stack(padded_vs1)\n",
    "padded_vs1 = np.transpose(padded_vs1, (0, 2, 1))\n",
    "print(padded_vs1.shape)\n"
   ]
  },
  {
   "cell_type": "code",
   "execution_count": 7,
   "id": "5e3244ab-2c2b-4265-89bc-a09643c64c4f",
   "metadata": {
    "tags": []
   },
   "outputs": [
    {
     "name": "stdout",
     "output_type": "stream",
     "text": [
      "(1200, 178, 513)\n"
     ]
    }
   ],
   "source": [
    "directory = 'timit-homework/v/'\n",
    "\n",
    "vn = []\n",
    "max_col = 0\n",
    "\n",
    "for i in range(1200):\n",
    "    filename = f'vn{i:04d}.wav' \n",
    "    file_path = directory + filename \n",
    "    audio_data, sr = librosa.load(file_path, sr=None)\n",
    "    \n",
    "    stft_data = librosa.stft(audio_data, n_fft=1024, hop_length=512)\n",
    "    magnitude_data = np.abs(stft_data)\n",
    "    \n",
    "    vn.append(magnitude_data)\n",
    "    \n",
    "    if max_col < len(magnitude_data[0]):\n",
    "        max_col = len(magnitude_data[0])\n",
    "\n",
    "padded_vn = []\n",
    "for magnitude_data in vn:\n",
    "    num_columns = len(magnitude_data[0])\n",
    "    if num_columns < max_col:\n",
    "        pad_width = max_col - num_columns\n",
    "        magnitude_data = np.pad(magnitude_data, ((0, 0), (0, pad_width)), mode='constant', constant_values=0)\n",
    "    \n",
    "    padded_vn.append(magnitude_data)\n",
    "\n",
    "padded_vn = tf.stack(padded_vn)\n",
    "padded_vn = np.transpose(padded_vn, (0, 2, 1))\n",
    "print(padded_vn.shape)"
   ]
  },
  {
   "cell_type": "code",
   "execution_count": 8,
   "id": "78bc948e-5ccc-41ed-84b8-b8bbf2217d6a",
   "metadata": {
    "tags": []
   },
   "outputs": [
    {
     "name": "stdout",
     "output_type": "stream",
     "text": [
      "(1200, 178, 513)\n",
      "(1200, 178, 513)\n"
     ]
    }
   ],
   "source": [
    "directory = 'timit-homework/v/'\n",
    "\n",
    "vx = []\n",
    "VX_cmplx = []\n",
    "max_col = 0\n",
    "\n",
    "for i in range(1200):\n",
    "    filename = f'vx{i:04d}.wav' \n",
    "    file_path = directory + filename \n",
    "    audio_data, sr = librosa.load(file_path, sr=None)\n",
    "    \n",
    "    stft_data = librosa.stft(audio_data, n_fft=1024, hop_length=512)\n",
    "    magnitude_data = np.abs(stft_data)\n",
    "    VX_cmplx.append(stft_data)\n",
    "    vx.append(magnitude_data)\n",
    "    \n",
    "    if max_col < len(magnitude_data[0]):\n",
    "        max_col = len(magnitude_data[0])\n",
    "\n",
    "padded_vx = []\n",
    "for magnitude_data in vx:\n",
    "    num_columns = len(magnitude_data[0])\n",
    "    if num_columns < max_col:\n",
    "        pad_width = max_col - num_columns\n",
    "        magnitude_data = np.pad(magnitude_data, ((0, 0), (0, pad_width)), mode='constant', constant_values=0)\n",
    "    \n",
    "    padded_vx.append(magnitude_data)\n",
    "\n",
    "padded_VX_cmplx = []\n",
    "for stft_data in VX_cmplx:\n",
    "    num_columns = len(stft_data[0])\n",
    "    if num_columns < max_col:\n",
    "        pad_width = max_col - num_columns\n",
    "        stft_data = np.pad(stft_data, ((0, 0), (0, pad_width)), mode='constant', constant_values=0)\n",
    "    \n",
    "    padded_VX_cmplx.append(stft_data)\n",
    "\n",
    "padded_vx = tf.stack(padded_vx)\n",
    "padded_vx  = np.transpose(padded_vx, (0, 2, 1))\n",
    "print(padded_vx.shape)\n",
    "\n",
    "padded_VX_cmplx = tf.stack(padded_VX_cmplx)\n",
    "padded_VX_cmplx = np.transpose(padded_VX_cmplx, (0, 2, 1))\n",
    "print(padded_VX_cmplx.shape)"
   ]
  },
  {
   "cell_type": "markdown",
   "id": "3f36ae86-dbcf-4c62-96dd-8faba77eb84a",
   "metadata": {
    "jp-MarkdownHeadingCollapsed": true,
    "tags": []
   },
   "source": [
    "## Test Data"
   ]
  },
  {
   "cell_type": "code",
   "execution_count": 95,
   "id": "e2dcdcf0-f5f2-4857-ae1a-28702d303a1d",
   "metadata": {
    "tags": []
   },
   "outputs": [
    {
     "name": "stdout",
     "output_type": "stream",
     "text": [
      "(400, 195, 513)\n",
      "(400, 195, 513)\n"
     ]
    }
   ],
   "source": [
    "directory = 'timit-homework/te/'\n",
    "\n",
    "tex = []\n",
    "TEX_cmplx = []\n",
    "max_col = 0\n",
    "\n",
    "for i in range(400):\n",
    "    filename = f'tex{i:04d}.wav' \n",
    "    file_path = directory + filename \n",
    "    audio_data, sr = librosa.load(file_path, sr=None)\n",
    "    \n",
    "    stft_data = librosa.stft(audio_data, n_fft=1024, hop_length=512)\n",
    "    magnitude_data = np.abs(stft_data)\n",
    "    TEX_cmplx.append(stft_data)\n",
    "    tex.append(magnitude_data)\n",
    "    \n",
    "    if max_col < len(magnitude_data[0]):\n",
    "        max_col = len(magnitude_data[0])\n",
    "\n",
    "padded_tex = []\n",
    "for magnitude_data in tex:\n",
    "    num_columns = len(magnitude_data[0])\n",
    "    if num_columns < max_col:\n",
    "        pad_width = max_col - num_columns\n",
    "        magnitude_data = np.pad(magnitude_data, ((0, 0), (0, pad_width)), mode='constant', constant_values=0)\n",
    "    \n",
    "    padded_tex.append(magnitude_data)\n",
    "\n",
    "padded_TEX_cmplx = []\n",
    "for stft_data in TEX_cmplx:\n",
    "    num_columns = len(stft_data[0])\n",
    "    if num_columns < max_col:\n",
    "        pad_width = max_col - num_columns\n",
    "        stft_data = np.pad(stft_data, ((0, 0), (0, pad_width)), mode='constant', constant_values=0)\n",
    "    \n",
    "    padded_TEX_cmplx.append(stft_data)\n",
    "\n",
    "padded_tex = tf.stack(padded_tex)\n",
    "padded_tex  = np.transpose(padded_tex, (0, 2, 1))\n",
    "print(padded_tex.shape)\n",
    "\n",
    "padded_TEX_cmplx = tf.stack(padded_TEX_cmplx)\n",
    "padded_TEX_cmplx = np.transpose(padded_TEX_cmplx, (0, 2, 1))\n",
    "print(padded_TEX_cmplx.shape)"
   ]
  },
  {
   "cell_type": "markdown",
   "id": "be2190cd-cf57-4e34-8fde-d66c77faccb8",
   "metadata": {
    "jp-MarkdownHeadingCollapsed": true,
    "tags": []
   },
   "source": [
    "## IBM Matrix"
   ]
  },
  {
   "cell_type": "code",
   "execution_count": 9,
   "id": "ca51af63-7319-4cdf-98ea-cd2fcf14becd",
   "metadata": {
    "tags": []
   },
   "outputs": [
    {
     "name": "stdout",
     "output_type": "stream",
     "text": [
      "(1200, 178, 513)\n"
     ]
    }
   ],
   "source": [
    "# trx is input to the RNN \n",
    "# trn and trs are used to create the trarget M \n",
    "# shape of trx 1200, 513, 178\n",
    "# shape of target is 1200, 513, 178\n",
    "\n",
    "M_matrix =[]\n",
    "for i in range(1200):\n",
    "    A = padded_trs[i]\n",
    "    B = padded_trn[i]\n",
    "    M = tf.cast(tf.greater(A, B), dtype=tf.int32)\n",
    "    M_matrix.append(M)\n",
    "\n",
    "M_matrix = tf.stack(M_matrix)\n",
    "print(M_matrix.shape)"
   ]
  },
  {
   "cell_type": "code",
   "execution_count": 10,
   "id": "acc5a4d7-2c1a-4e19-b94d-3898a9f2c8af",
   "metadata": {},
   "outputs": [
    {
     "name": "stdout",
     "output_type": "stream",
     "text": [
      "(1200, 178, 513)\n"
     ]
    }
   ],
   "source": [
    "# for validation\n",
    "\n",
    "V_M_matrix =[]\n",
    "for i in range(1200):\n",
    "    A = padded_vs1[i]\n",
    "    B = padded_vn[i]\n",
    "    M = tf.cast(tf.greater(A, B), dtype=tf.int32)\n",
    "    V_M_matrix.append(M)\n",
    "\n",
    "V_M_matrix = tf.stack(V_M_matrix)\n",
    "print(V_M_matrix.shape)"
   ]
  },
  {
   "cell_type": "markdown",
   "id": "f699972d-0001-4bdf-90a8-aa3cb132f6ba",
   "metadata": {
    "jp-MarkdownHeadingCollapsed": true,
    "tags": []
   },
   "source": [
    "## Training Model "
   ]
  },
  {
   "cell_type": "code",
   "execution_count": 11,
   "id": "ff5cb0fe-dbc8-446f-a2ba-ccce094df138",
   "metadata": {
    "tags": []
   },
   "outputs": [],
   "source": [
    "model = tf.keras.Sequential()\n",
    "model.add(tf.keras.layers.GRU(513, return_sequences=True, activation='relu'))\n",
    "model.add(tf.keras.layers.Dropout(rate = 0.2))\n",
    "model.add(tf.keras.layers.GRU(513, return_sequences=True, activation='relu'))\n",
    "model.add(tf.keras.layers.Dropout(rate = 0.2))\n",
    "model.add(tf.keras.layers.Dense(513, activation='sigmoid'))"
   ]
  },
  {
   "cell_type": "code",
   "execution_count": null,
   "id": "cade2a7a-e5f3-44dc-962c-b2816b81445c",
   "metadata": {
    "tags": []
   },
   "outputs": [],
   "source": [
    "model.compile(optimizer=tf.keras.optimizers.legacy.Adam(), loss='binary_crossentropy')\n",
    "Accuracy_model = model.fit(padded_trx, M_matrix, \n",
    "                           epochs=100, \n",
    "                           batch_size=10,\n",
    "                           validation_data=(padded_vx, V_M_matrix))"
   ]
  },
  {
   "cell_type": "code",
   "execution_count": 29,
   "id": "c4d66c1b-0bd8-4119-855b-007dbca4b9f6",
   "metadata": {},
   "outputs": [
    {
     "data": {
      "text/plain": [
       "Text(0, 0.5, 'Loss')"
      ]
     },
     "execution_count": 29,
     "metadata": {},
     "output_type": "execute_result"
    },
    {
     "data": {
      "image/png": "[encoded data removed]",
      "text/plain": [
       "<Figure size 640x480 with 1 Axes>"
      ]
     },
     "metadata": {},
     "output_type": "display_data"
    }
   ],
   "source": [
    "plt.figure()\n",
    "plt.plot(Accuracy_model.history['loss'], label='Training Loss')\n",
    "plt.plot(Accuracy_model.history['val_loss'], label='Validation Loss')\n",
    "plt.title('Loss Plot')\n",
    "plt.legend()\n",
    "plt.xlabel('Epoch')\n",
    "plt.ylabel('Loss')"
   ]
  },
  {
   "cell_type": "code",
   "execution_count": 41,
   "id": "62d1a5d1-4521-4c12-8909-b1a1ba0479df",
   "metadata": {
    "tags": []
   },
   "outputs": [
    {
     "name": "stdout",
     "output_type": "stream",
     "text": [
      "120/120 [==============================] - 34s 281ms/step\n",
      "Average value of SNR is: 11.469873\n"
     ]
    }
   ],
   "source": [
    "M_hat = model.predict(padded_vx, batch_size=10)   \n",
    "S_hat =np.multiply(M_hat, padded_VX_cmplx)  \n",
    "S_hat = np.transpose(S_hat, (0, 2, 1))\n",
    "s_hat = librosa.istft(S_hat, win_length=1024, hop_length=512)\n",
    "padded_vs = padded_vs[:, 0:len(s_hat[0])]\n",
    "\n",
    "num = np.sum(np.square(padded_vs), axis=1)\n",
    "den = np.sum(np.square(padded_vs - s_hat), axis=1)\n",
    "snr = 10 * np.log10(num / den)\n",
    "print('Average value of SNR is:', np.mean(snr))"
   ]
  },
  {
   "cell_type": "code",
   "execution_count": 42,
   "id": "5e18496e-2813-4b17-adf9-c92db745f488",
   "metadata": {
    "tags": []
   },
   "outputs": [
    {
     "name": "stdout",
     "output_type": "stream",
     "text": [
      "40/40 [==============================] - 13s 309ms/step\n"
     ]
    }
   ],
   "source": [
    "M_hat = model.predict(padded_tex, batch_size=10)   \n",
    "S_hat =np.multiply(M_hat, padded_TEX_cmplx)  \n",
    "S_hat = np.transpose(S_hat, (0, 2, 1))\n",
    "s_hat = librosa.istft(S_hat, win_length=1024, hop_length=512)  "
   ]
  },
  {
   "cell_type": "code",
   "execution_count": null,
   "id": "eb071223-e819-4fa3-985f-e3bfa2517fbc",
   "metadata": {},
   "outputs": [],
   "source": [
    "directory = 'timit-homework/te/'\n",
    "directory1 = 'timit-homework/te_hat/'\n",
    "\n",
    "for i in range(400):\n",
    "    filename = f'tex{i:04d}.wav' \n",
    "    file_path = directory + filename \n",
    "    s, sr = librosa.load(file_path, sr=None)\n",
    "    s_hat_1 = s_hat[i][:len(s)]\n",
    "    filename1 = f'tex_hat{i:04d}.wav' \n",
    "    file_path1 = directory1 + filename1 \n",
    "    sf.write(file_path1, s_hat_1, sr)"
   ]
  }
 ],
 "metadata": {
  "kernelspec": {
   "display_name": "Python 3 (ipykernel)",
   "language": "python",
   "name": "python3"
  },
  "language_info": {
   "codemirror_mode": {
    "name": "ipython",
    "version": 3
   },
   "file_extension": ".py",
   "mimetype": "text/x-python",
   "name": "python",
   "nbconvert_exporter": "python",
   "pygments_lexer": "ipython3",
   "version": "3.11.5"
  }
 },
 "nbformat": 4,
 "nbformat_minor": 5
}
