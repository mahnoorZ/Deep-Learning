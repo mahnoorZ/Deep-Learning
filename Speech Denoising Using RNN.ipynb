{
 "cells": [
  {
   "cell_type": "code",
   "execution_count": 24,
   "id": "4666692d-93a9-4108-a326-5c0d164260cb",
   "metadata": {},
   "outputs": [],
   "source": [
    "import numpy as np\n",
    "import tensorflow as tf\n",
    "import matplotlib.pyplot as plt\n",
    "import pickle\n",
    "import itertools\n",
    "import random\n",
    "import librosa"
   ]
  },
  {
   "cell_type": "markdown",
   "id": "bafbbbb9",
   "metadata": {},
   "source": [
    "# Speech Denoising Using RNN"
   ]
  },
  {
   "cell_type": "markdown",
   "id": "44064e01-dc68-400b-bc91-812ba954b81e",
   "metadata": {
    "jp-MarkdownHeadingCollapsed": true,
    "tags": []
   },
   "source": [
    "## Train Data"
   ]
  },
  {
   "cell_type": "code",
   "execution_count": 3,
   "id": "fe9b6b7d-7936-46e2-acfa-f0947b7b5b94",
   "metadata": {
    "tags": []
   },
   "outputs": [
    {
     "name": "stdout",
     "output_type": "stream",
     "text": [
      "(1200, 178, 513)\n"
     ]
    }
   ],
   "source": [
    "directory = 'timit-homework/tr/'\n",
    "\n",
    "trn = []\n",
    "max_col = 0\n",
    "\n",
    "for i in range(1200):\n",
    "    filename = f'trn{i:04d}.wav' \n",
    "    file_path = directory + filename \n",
    "    audio_data, sr = librosa.load(file_path, sr=None)\n",
    "    \n",
    "    stft_data = librosa.stft(audio_data, n_fft=1024, hop_length=512)\n",
    "    magnitude_data = np.abs(stft_data)\n",
    "    \n",
    "    trn.append(magnitude_data)\n",
    "    \n",
    "    if max_col < len(magnitude_data[0]):\n",
    "        max_col = len(magnitude_data[0])\n",
    "\n",
    "padded_trn = []\n",
    "for magnitude_data in trn:\n",
    "    num_columns = len(magnitude_data[0])\n",
    "    if num_columns < max_col:\n",
    "        pad_width = max_col - num_columns\n",
    "        magnitude_data = np.pad(magnitude_data, ((0, 0), (0, pad_width)), mode='constant', constant_values=0)\n",
    "    \n",
    "    padded_trn.append(magnitude_data)\n",
    "\n",
    "padded_trn = tf.stack(padded_trn)\n",
    "padded_trn = np.transpose(padded_trn, (0, 2, 1))\n",
    "print(padded_trn.shape)"
   ]
  },
  {
   "cell_type": "code",
   "execution_count": 4,
   "id": "cba00063-c474-490c-b85f-933ab3fc1531",
   "metadata": {
    "tags": []
   },
   "outputs": [
    {
     "name": "stdout",
     "output_type": "stream",
     "text": [
      "(1200, 178, 513)\n",
      "(1200, 178, 513)\n"
     ]
    }
   ],
   "source": [
    "directory = 'timit-homework/tr/'\n",
    "\n",
    "trx = []\n",
    "X_cmplx = []\n",
    "max_col = 0\n",
    "\n",
    "for i in range(1200):\n",
    "    filename = f'trx{i:04d}.wav' \n",
    "    file_path = directory + filename \n",
    "    audio_data, sr = librosa.load(file_path, sr=None)\n",
    "    \n",
    "    stft_data = librosa.stft(audio_data, n_fft=1024, hop_length=512)\n",
    "    magnitude_data = np.abs(stft_data)\n",
    "    X_cmplx.append(stft_data)\n",
    "    trx.append(magnitude_data)\n",
    "    \n",
    "    if max_col < len(magnitude_data[0]):\n",
    "        max_col = len(magnitude_data[0])\n",
    "\n",
    "padded_trx = []\n",
    "for magnitude_data in trx:\n",
    "    num_columns = len(magnitude_data[0])\n",
    "    if num_columns < max_col:\n",
    "        pad_width = max_col - num_columns\n",
    "        magnitude_data = np.pad(magnitude_data, ((0, 0), (0, pad_width)), mode='constant', constant_values=0)\n",
    "    \n",
    "    padded_trx.append(magnitude_data)\n",
    "\n",
    "padded_X_cmplx = []\n",
    "for stft_data in X_cmplx:\n",
    "    num_columns = len(stft_data[0])\n",
    "    if num_columns < max_col:\n",
    "        pad_width = max_col - num_columns\n",
    "        stft_data = np.pad(stft_data, ((0, 0), (0, pad_width)), mode='constant', constant_values=0)\n",
    "    \n",
    "    padded_X_cmplx.append(stft_data)\n",
    "\n",
    "padded_trx = tf.stack(padded_trx)\n",
    "padded_trx = np.transpose(padded_trx, (0, 2, 1))\n",
    "print(padded_trx.shape)\n",
    "\n",
    "padded_X_cmplx = tf.stack(padded_X_cmplx)\n",
    "padded_X_cmplx = np.transpose(padded_X_cmplx, (0, 2, 1))\n",
    "print(padded_X_cmplx.shape)"
   ]
  },
  {
   "cell_type": "code",
   "execution_count": 5,
   "id": "9a11c188-7bbe-4277-9087-949b1ef5904f",
   "metadata": {
    "tags": []
   },
   "outputs": [
    {
     "name": "stdout",
     "output_type": "stream",
     "text": [
      "(1200, 178, 513)\n"
     ]
    }
   ],
   "source": [
    "directory = 'timit-homework/tr/'\n",
    "\n",
    "trs = []\n",
    "max_col = 0\n",
    "\n",
    "for i in range(1200):\n",
    "    filename = f'trs{i:04d}.wav' \n",
    "    file_path = directory + filename \n",
    "    audio_data, sr = librosa.load(file_path, sr=None)\n",
    "    \n",
    "    stft_data = librosa.stft(audio_data, n_fft=1024, hop_length=512)\n",
    "    magnitude_data = np.abs(stft_data)\n",
    "    \n",
    "    trs.append(magnitude_data)\n",
    "    \n",
    "    if max_col < len(magnitude_data[0]):\n",
    "        max_col = len(magnitude_data[0])\n",
    "\n",
    "padded_trs = []\n",
    "for magnitude_data in trs:\n",
    "    num_columns = len(magnitude_data[0])\n",
    "    if num_columns < max_col:\n",
    "        pad_width = max_col - num_columns\n",
    "        magnitude_data = np.pad(magnitude_data, ((0, 0), (0, pad_width)), mode='constant', constant_values=0)\n",
    "    \n",
    "    padded_trs.append(magnitude_data)\n",
    "\n",
    "padded_trs = tf.stack(padded_trs)\n",
    "padded_trs = np.transpose(padded_trs, (0, 2, 1))\n",
    "print(padded_trs.shape)"
   ]
  },
  {
   "cell_type": "markdown",
   "id": "96fd51f9-7920-485d-a30e-441697e8a517",
   "metadata": {
    "jp-MarkdownHeadingCollapsed": true,
    "tags": []
   },
   "source": [
    "## Validation Data"
   ]
  },
  {
   "cell_type": "code",
   "execution_count": 6,
   "id": "64c58e99-1b55-42a1-986b-c6fe126693a7",
   "metadata": {
    "tags": []
   },
   "outputs": [
    {
     "name": "stdout",
     "output_type": "stream",
     "text": [
      "(1200, 90727)\n",
      "(1200, 178, 513)\n"
     ]
    }
   ],
   "source": [
    "directory = 'timit-homework/v/'\n",
    "\n",
    "vs = []\n",
    "vs1 = []\n",
    "max_col = 0\n",
    "max_col1 = 0\n",
    "\n",
    "for i in range(1200):\n",
    "    filename = f'vs{i:04d}.wav' \n",
    "    file_path = directory + filename \n",
    "    audio_data, sr = librosa.load(file_path, sr=None)\n",
    "    \n",
    "    stft_data = librosa.stft(audio_data, n_fft=1024, hop_length=512)\n",
    "    magnitude_data = np.abs(stft_data)\n",
    "    \n",
    "    vs.append(audio_data)\n",
    "    vs1.append(magnitude_data)\n",
    "    \n",
    "    if max_col < len(audio_data):\n",
    "        max_col = len(audio_data)\n",
    "    \n",
    "    if max_col1 < len(magnitude_data[0]):\n",
    "        max_col1 = len(magnitude_data[0])\n",
    "\n",
    "padded_vs = []\n",
    "for audio_data in vs:\n",
    "    num_columns = len(audio_data)\n",
    "    if num_columns < max_col:\n",
    "        pad_width = max_col - num_columns\n",
    "        audio_data = np.pad(audio_data, (0, pad_width), mode='constant', constant_values=0)\n",
    "    \n",
    "    padded_vs.append(audio_data)\n",
    "\n",
    "padded_vs = tf.stack(padded_vs)\n",
    "print(padded_vs.shape)\n",
    "\n",
    "padded_vs1 = []\n",
    "for magnitude_data in vs1:\n",
    "    num_columns = len(magnitude_data[0])\n",
    "    if num_columns < max_col1:\n",
    "        pad_width = max_col1 - num_columns\n",
    "        magnitude_data = np.pad(magnitude_data, ((0, 0), (0, pad_width)), mode='constant', constant_values=0)\n",
    "    \n",
    "    padded_vs1.append(magnitude_data)\n",
    "\n",
    "padded_vs1 = tf.stack(padded_vs1)\n",
    "padded_vs1 = np.transpose(padded_vs1, (0, 2, 1))\n",
    "print(padded_vs1.shape)\n"
   ]
  },
  {
   "cell_type": "code",
   "execution_count": 7,
   "id": "5e3244ab-2c2b-4265-89bc-a09643c64c4f",
   "metadata": {
    "tags": []
   },
   "outputs": [
    {
     "name": "stdout",
     "output_type": "stream",
     "text": [
      "(1200, 178, 513)\n"
     ]
    }
   ],
   "source": [
    "directory = 'timit-homework/v/'\n",
    "\n",
    "vn = []\n",
    "max_col = 0\n",
    "\n",
    "for i in range(1200):\n",
    "    filename = f'vn{i:04d}.wav' \n",
    "    file_path = directory + filename \n",
    "    audio_data, sr = librosa.load(file_path, sr=None)\n",
    "    \n",
    "    stft_data = librosa.stft(audio_data, n_fft=1024, hop_length=512)\n",
    "    magnitude_data = np.abs(stft_data)\n",
    "    \n",
    "    vn.append(magnitude_data)\n",
    "    \n",
    "    if max_col < len(magnitude_data[0]):\n",
    "        max_col = len(magnitude_data[0])\n",
    "\n",
    "padded_vn = []\n",
    "for magnitude_data in vn:\n",
    "    num_columns = len(magnitude_data[0])\n",
    "    if num_columns < max_col:\n",
    "        pad_width = max_col - num_columns\n",
    "        magnitude_data = np.pad(magnitude_data, ((0, 0), (0, pad_width)), mode='constant', constant_values=0)\n",
    "    \n",
    "    padded_vn.append(magnitude_data)\n",
    "\n",
    "padded_vn = tf.stack(padded_vn)\n",
    "padded_vn = np.transpose(padded_vn, (0, 2, 1))\n",
    "print(padded_vn.shape)"
   ]
  },
  {
   "cell_type": "code",
   "execution_count": 8,
   "id": "78bc948e-5ccc-41ed-84b8-b8bbf2217d6a",
   "metadata": {
    "tags": []
   },
   "outputs": [
    {
     "name": "stdout",
     "output_type": "stream",
     "text": [
      "(1200, 178, 513)\n",
      "(1200, 178, 513)\n"
     ]
    }
   ],
   "source": [
    "directory = 'timit-homework/v/'\n",
    "\n",
    "vx = []\n",
    "VX_cmplx = []\n",
    "max_col = 0\n",
    "\n",
    "for i in range(1200):\n",
    "    filename = f'vx{i:04d}.wav' \n",
    "    file_path = directory + filename \n",
    "    audio_data, sr = librosa.load(file_path, sr=None)\n",
    "    \n",
    "    stft_data = librosa.stft(audio_data, n_fft=1024, hop_length=512)\n",
    "    magnitude_data = np.abs(stft_data)\n",
    "    VX_cmplx.append(stft_data)\n",
    "    vx.append(magnitude_data)\n",
    "    \n",
    "    if max_col < len(magnitude_data[0]):\n",
    "        max_col = len(magnitude_data[0])\n",
    "\n",
    "padded_vx = []\n",
    "for magnitude_data in vx:\n",
    "    num_columns = len(magnitude_data[0])\n",
    "    if num_columns < max_col:\n",
    "        pad_width = max_col - num_columns\n",
    "        magnitude_data = np.pad(magnitude_data, ((0, 0), (0, pad_width)), mode='constant', constant_values=0)\n",
    "    \n",
    "    padded_vx.append(magnitude_data)\n",
    "\n",
    "padded_VX_cmplx = []\n",
    "for stft_data in VX_cmplx:\n",
    "    num_columns = len(stft_data[0])\n",
    "    if num_columns < max_col:\n",
    "        pad_width = max_col - num_columns\n",
    "        stft_data = np.pad(stft_data, ((0, 0), (0, pad_width)), mode='constant', constant_values=0)\n",
    "    \n",
    "    padded_VX_cmplx.append(stft_data)\n",
    "\n",
    "padded_vx = tf.stack(padded_vx)\n",
    "padded_vx  = np.transpose(padded_vx, (0, 2, 1))\n",
    "print(padded_vx.shape)\n",
    "\n",
    "padded_VX_cmplx = tf.stack(padded_VX_cmplx)\n",
    "padded_VX_cmplx = np.transpose(padded_VX_cmplx, (0, 2, 1))\n",
    "print(padded_VX_cmplx.shape)"
   ]
  },
  {
   "cell_type": "markdown",
   "id": "3f36ae86-dbcf-4c62-96dd-8faba77eb84a",
   "metadata": {
    "jp-MarkdownHeadingCollapsed": true,
    "tags": []
   },
   "source": [
    "## Test Data"
   ]
  },
  {
   "cell_type": "code",
   "execution_count": 95,
   "id": "e2dcdcf0-f5f2-4857-ae1a-28702d303a1d",
   "metadata": {
    "tags": []
   },
   "outputs": [
    {
     "name": "stdout",
     "output_type": "stream",
     "text": [
      "(400, 195, 513)\n",
      "(400, 195, 513)\n"
     ]
    }
   ],
   "source": [
    "directory = 'timit-homework/te/'\n",
    "\n",
    "tex = []\n",
    "TEX_cmplx = []\n",
    "max_col = 0\n",
    "\n",
    "for i in range(400):\n",
    "    filename = f'tex{i:04d}.wav' \n",
    "    file_path = directory + filename \n",
    "    audio_data, sr = librosa.load(file_path, sr=None)\n",
    "    \n",
    "    stft_data = librosa.stft(audio_data, n_fft=1024, hop_length=512)\n",
    "    magnitude_data = np.abs(stft_data)\n",
    "    TEX_cmplx.append(stft_data)\n",
    "    tex.append(magnitude_data)\n",
    "    \n",
    "    if max_col < len(magnitude_data[0]):\n",
    "        max_col = len(magnitude_data[0])\n",
    "\n",
    "padded_tex = []\n",
    "for magnitude_data in tex:\n",
    "    num_columns = len(magnitude_data[0])\n",
    "    if num_columns < max_col:\n",
    "        pad_width = max_col - num_columns\n",
    "        magnitude_data = np.pad(magnitude_data, ((0, 0), (0, pad_width)), mode='constant', constant_values=0)\n",
    "    \n",
    "    padded_tex.append(magnitude_data)\n",
    "\n",
    "padded_TEX_cmplx = []\n",
    "for stft_data in TEX_cmplx:\n",
    "    num_columns = len(stft_data[0])\n",
    "    if num_columns < max_col:\n",
    "        pad_width = max_col - num_columns\n",
    "        stft_data = np.pad(stft_data, ((0, 0), (0, pad_width)), mode='constant', constant_values=0)\n",
    "    \n",
    "    padded_TEX_cmplx.append(stft_data)\n",
    "\n",
    "padded_tex = tf.stack(padded_tex)\n",
    "padded_tex  = np.transpose(padded_tex, (0, 2, 1))\n",
    "print(padded_tex.shape)\n",
    "\n",
    "padded_TEX_cmplx = tf.stack(padded_TEX_cmplx)\n",
    "padded_TEX_cmplx = np.transpose(padded_TEX_cmplx, (0, 2, 1))\n",
    "print(padded_TEX_cmplx.shape)"
   ]
  },
  {
   "cell_type": "markdown",
   "id": "be2190cd-cf57-4e34-8fde-d66c77faccb8",
   "metadata": {
    "jp-MarkdownHeadingCollapsed": true,
    "tags": []
   },
   "source": [
    "## IBM Matrix"
   ]
  },
  {
   "cell_type": "code",
   "execution_count": 9,
   "id": "ca51af63-7319-4cdf-98ea-cd2fcf14becd",
   "metadata": {
    "tags": []
   },
   "outputs": [
    {
     "name": "stdout",
     "output_type": "stream",
     "text": [
      "(1200, 178, 513)\n"
     ]
    }
   ],
   "source": [
    "# trx is input to the RNN \n",
    "# trn and trs are used to create the trarget M \n",
    "# shape of trx 1200, 513, 178\n",
    "# shape of target is 1200, 513, 178\n",
    "\n",
    "M_matrix =[]\n",
    "for i in range(1200):\n",
    "    A = padded_trs[i]\n",
    "    B = padded_trn[i]\n",
    "    M = tf.cast(tf.greater(A, B), dtype=tf.int32)\n",
    "    M_matrix.append(M)\n",
    "\n",
    "M_matrix = tf.stack(M_matrix)\n",
    "print(M_matrix.shape)"
   ]
  },
  {
   "cell_type": "code",
   "execution_count": 10,
   "id": "acc5a4d7-2c1a-4e19-b94d-3898a9f2c8af",
   "metadata": {},
   "outputs": [
    {
     "name": "stdout",
     "output_type": "stream",
     "text": [
      "(1200, 178, 513)\n"
     ]
    }
   ],
   "source": [
    "# for validation\n",
    "\n",
    "V_M_matrix =[]\n",
    "for i in range(1200):\n",
    "    A = padded_vs1[i]\n",
    "    B = padded_vn[i]\n",
    "    M = tf.cast(tf.greater(A, B), dtype=tf.int32)\n",
    "    V_M_matrix.append(M)\n",
    "\n",
    "V_M_matrix = tf.stack(V_M_matrix)\n",
    "print(V_M_matrix.shape)"
   ]
  },
  {
   "cell_type": "markdown",
   "id": "f699972d-0001-4bdf-90a8-aa3cb132f6ba",
   "metadata": {
    "jp-MarkdownHeadingCollapsed": true,
    "tags": []
   },
   "source": [
    "## Training Model "
   ]
  },
  {
   "cell_type": "code",
   "execution_count": 11,
   "id": "ff5cb0fe-dbc8-446f-a2ba-ccce094df138",
   "metadata": {
    "tags": []
   },
   "outputs": [],
   "source": [
    "model = tf.keras.Sequential()\n",
    "model.add(tf.keras.layers.GRU(513, return_sequences=True, activation='relu'))\n",
    "model.add(tf.keras.layers.Dropout(rate = 0.2))\n",
    "model.add(tf.keras.layers.GRU(513, return_sequences=True, activation='relu'))\n",
    "model.add(tf.keras.layers.Dropout(rate = 0.2))\n",
    "model.add(tf.keras.layers.Dense(513, activation='sigmoid'))"
   ]
  },
  {
   "cell_type": "code",
   "execution_count": null,
   "id": "cade2a7a-e5f3-44dc-962c-b2816b81445c",
   "metadata": {
    "tags": []
   },
   "outputs": [],
   "source": [
    "model.compile(optimizer=tf.keras.optimizers.legacy.Adam(), loss='binary_crossentropy')\n",
    "Accuracy_model = model.fit(padded_trx, M_matrix, \n",
    "                           epochs=100, \n",
    "                           batch_size=10,\n",
    "                           validation_data=(padded_vx, V_M_matrix))"
   ]
  },
  {
   "cell_type": "code",
   "execution_count": 29,
   "id": "c4d66c1b-0bd8-4119-855b-007dbca4b9f6",
   "metadata": {},
   "outputs": [
    {
     "data": {
      "text/plain": [
       "Text(0, 0.5, 'Loss')"
      ]
     },
     "execution_count": 29,
     "metadata": {},
     "output_type": "execute_result"
    },
    {
     "data": {
      "image/png": "[encoded data removed]",
      "text/plain": [
       "<Figure size 640x480 with 1 Axes>"
      ]
     },
     "metadata": {},
     "output_type": "display_data"
    }
   ],
   "source": [
    "plt.figure()\n",
    "plt.plot(Accuracy_model.history['loss'], label='Training Loss')\n",
    "plt.plot(Accuracy_model.history['val_loss'], label='Validation Loss')\n",
    "plt.title('Loss Plot')\n",
    "plt.legend()\n",
    "plt.xlabel('Epoch')\n",
    "plt.ylabel('Loss')"
   ]
  },
  {
   "cell_type": "code",
   "execution_count": 41,
   "id": "62d1a5d1-4521-4c12-8909-b1a1ba0479df",
   "metadata": {
    "tags": []
   },
   "outputs": [
    {
     "name": "stdout",
     "output_type": "stream",
     "text": [
      "120/120 [==============================] - 34s 281ms/step\n",
      "Average value of SNR is: 11.469873\n"
     ]
    }
   ],
   "source": [
    "M_hat = model.predict(padded_vx, batch_size=10)   \n",
    "S_hat =np.multiply(M_hat, padded_VX_cmplx)  \n",
    "S_hat = np.transpose(S_hat, (0, 2, 1))\n",
    "s_hat = librosa.istft(S_hat, win_length=1024, hop_length=512)\n",
    "padded_vs = padded_vs[:, 0:len(s_hat[0])]\n",
    "\n",
    "num = np.sum(np.square(padded_vs), axis=1)\n",
    "den = np.sum(np.square(padded_vs - s_hat), axis=1)\n",
    "snr = 10 * np.log10(num / den)\n",
    "print('Average value of SNR is:', np.mean(snr))"
   ]
  },
  {
   "cell_type": "code",
   "execution_count": 42,
   "id": "5e18496e-2813-4b17-adf9-c92db745f488",
   "metadata": {
    "tags": []
   },
   "outputs": [
    {
     "name": "stdout",
     "output_type": "stream",
     "text": [
      "40/40 [==============================] - 13s 309ms/step\n"
     ]
    }
   ],
   "source": [
    "M_hat = model.predict(padded_tex, batch_size=10)   \n",
    "S_hat =np.multiply(M_hat, padded_TEX_cmplx)  \n",
    "S_hat = np.transpose(S_hat, (0, 2, 1))\n",
    "s_hat = librosa.istft(S_hat, win_length=1024, hop_length=512)  "
   ]
  },
  {
   "cell_type": "code",
   "execution_count": null,
   "id": "eb071223-e819-4fa3-985f-e3bfa2517fbc",
   "metadata": {},
   "outputs": [],
   "source": [
    "directory = 'timit-homework/te/'\n",
    "directory1 = 'timit-homework/te_hat/'\n",
    "\n",
    "for i in range(400):\n",
    "    filename = f'tex{i:04d}.wav' \n",
    "    file_path = directory + filename \n",
    "    s, sr = librosa.load(file_path, sr=None)\n",
    "    s_hat_1 = s_hat[i][:len(s)]\n",
    "    filename1 = f'tex_hat{i:04d}.wav' \n",
    "    file_path1 = directory1 + filename1 \n",
    "    sf.write(file_path1, s_hat_1, sr)"
   ]
  }
 ],
 "metadata": {
  "kernelspec": {
   "display_name": "Python 3 (ipykernel)",
   "language": "python",
   "name": "python3"
  },
  "language_info": {
   "codemirror_mode": {
    "name": "ipython",
    "version": 3
   },
   "file_extension": ".py",
   "mimetype": "text/x-python",
   "name": "python",
   "nbconvert_exporter": "python",
   "pygments_lexer": "ipython3",
   "version": "3.11.5"
  }
 },
 "nbformat": 4,
 "nbformat_minor": 5
}
