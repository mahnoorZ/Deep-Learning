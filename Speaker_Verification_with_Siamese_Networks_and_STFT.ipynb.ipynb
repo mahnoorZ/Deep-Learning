{
 "cells": [
  {
   "cell_type": "code",
   "execution_count": 24,
   "id": "4666692d-93a9-4108-a326-5c0d164260cb",
   "metadata": {},
   "outputs": [],
   "source": [
    "import numpy as np\n",
    "import tensorflow as tf\n",
    "import matplotlib.pyplot as plt\n",
    "import pickle\n",
    "import itertools\n",
    "import random\n",
    "import librosa"
   ]
  },
  {
   "cell_type": "markdown",
   "id": "cf5229fd-c0fe-4fc2-93bf-54e70a94b7ac",
   "metadata": {
    "jp-MarkdownHeadingCollapsed": true,
    "tags": []
   },
   "source": [
    "# Speaker Verification"
   ]
  },
  {
   "cell_type": "code",
   "execution_count": 15,
   "id": "9645e774-403a-437f-9675-2d03d8bc8162",
   "metadata": {},
   "outputs": [
    {
     "name": "stdout",
     "output_type": "stream",
     "text": [
      "(500, 22631)\n",
      "(200, 22631)\n"
     ]
    }
   ],
   "source": [
    "with open('trs.pkl', 'rb') as file:\n",
    "    trs_old = pickle.load(file)\n",
    "    \n",
    "with open('tes.pkl', 'rb') as file:\n",
    "    tes = pickle.load(file)\n",
    "\n",
    "trs = np.zeros((500, 22631))\n",
    "trs[:, :trs_old.shape[1]] = trs_old\n",
    "print(trs.shape)\n",
    "print(tes.shape)"
   ]
  },
  {
   "cell_type": "code",
   "execution_count": 16,
   "id": "246f6046-a31b-4dc2-a6fd-8080f17b0e00",
   "metadata": {},
   "outputs": [],
   "source": [
    "def PMatrix(trs, speaker):\n",
    "    a = speaker*10\n",
    "    b = speaker*10+10\n",
    "    combinations = list(itertools.combinations(range(a, b), 2))\n",
    "    p_matrix = []\n",
    "    for i in range(len(combinations)):\n",
    "        p = tf.concat([trs[combinations[i][0], :], trs[combinations[i][1], :]], axis=0)\n",
    "        p_matrix.append(p)\n",
    "\n",
    "    return tf.stack(p_matrix)"
   ]
  },
  {
   "cell_type": "code",
   "execution_count": 17,
   "id": "9917e31a-ab8e-4193-ae0f-e028298b3d5a",
   "metadata": {},
   "outputs": [],
   "source": [
    "def NMatrix(trs, speaker, N):\n",
    "    a = speaker*10\n",
    "    b = speaker*10+10\n",
    "    range1 = range(a, b)\n",
    "    range2 = [x for x in range(N) if x < a or x > b]\n",
    "\n",
    "    combinations = list(itertools.product(range1, range2))\n",
    "    n_matrix = []\n",
    "    for i in range(45):\n",
    "        combination = random.choice(combinations)\n",
    "        n = tf.concat([trs[combination[0], :], trs[combination[1], :]], axis=0)\n",
    "        n_matrix.append(n)\n",
    "    \n",
    "    return tf.stack(n_matrix)"
   ]
  },
  {
   "cell_type": "code",
   "execution_count": 18,
   "id": "68a73df0-4523-4b75-bae8-0d54f0b9b7d7",
   "metadata": {},
   "outputs": [
    {
     "name": "stdout",
     "output_type": "stream",
     "text": [
      "(50, 90, 45262)\n",
      "(20, 90, 45262)\n"
     ]
    }
   ],
   "source": [
    "matrix_train = []\n",
    "for speaker in range(50):\n",
    "    p_matrix = PMatrix(trs, speaker)\n",
    "    n_matrix = NMatrix(trs, speaker, 500)\n",
    "    \n",
    "    matrix_train.append(np.concatenate((p_matrix, n_matrix), axis=0))\n",
    "\n",
    "matrix_train = tf.stack(matrix_train)\n",
    "print(matrix_train.shape)\n",
    "\n",
    "matrix_test = []\n",
    "for speaker in range(20):\n",
    "    p_matrix = PMatrix(tes, speaker)\n",
    "    n_matrix = NMatrix(tes, speaker, 200)\n",
    "    \n",
    "    matrix_test.append(np.concatenate((p_matrix, n_matrix), axis=0))\n",
    "\n",
    "matrix_test = tf.stack(matrix_test)\n",
    "print(matrix_test.shape)"
   ]
  },
  {
   "cell_type": "code",
   "execution_count": 19,
   "id": "f5317df3-88c9-41eb-a748-c49f30c6ade9",
   "metadata": {
    "tags": []
   },
   "outputs": [
    {
     "name": "stdout",
     "output_type": "stream",
     "text": [
      "(4500, 2, 1, 22631)\n",
      "(1800, 2, 1, 22631)\n"
     ]
    }
   ],
   "source": [
    "X_train_matrix = np.reshape(matrix_train, (50 * 90, 2, 1, 22631))\n",
    "print(X_train_matrix.shape)\n",
    "\n",
    "X_test_matrix = np.reshape(matrix_test, (20 * 90, 2, 1, 22631)) #22631\n",
    "print(X_test_matrix.shape)"
   ]
  },
  {
   "cell_type": "code",
   "execution_count": 20,
   "id": "bb8e41e2-4841-4321-b949-8b78d48b9280",
   "metadata": {
    "tags": []
   },
   "outputs": [],
   "source": [
    "X_train_matrix  = tf.reshape(X_train_matrix, (4500, 2, 22631))\n",
    "stft_data_train = tf.signal.stft(X_train_matrix , frame_length=1024, frame_step=512)\n",
    "stft_data_train = tf.abs(stft_data_train)\n",
    "\n",
    "X_test_matrix  = tf.reshape(X_test_matrix, (1800, 2,22631)) #22631\n",
    "stft_data_test = tf.signal.stft(X_test_matrix , frame_length=1024, frame_step=512)\n",
    "stft_data_test = tf.abs(stft_data_test)"
   ]
  },
  {
   "cell_type": "code",
   "execution_count": 21,
   "id": "67eba594-5665-45a8-99ea-2373652ccfe4",
   "metadata": {
    "tags": []
   },
   "outputs": [],
   "source": [
    "positive_labels = np.ones((45,))\n",
    "negative_labels = np.zeros((45,))\n",
    "labels_train = np.tile(np.concatenate([positive_labels, negative_labels]), 50)\n",
    "labels_test = np.tile(np.concatenate([positive_labels, negative_labels]), 20)"
   ]
  },
  {
   "cell_type": "code",
   "execution_count": 22,
   "id": "462baeda-fc34-49c5-ac1b-57acc4f07bab",
   "metadata": {
    "tags": []
   },
   "outputs": [],
   "source": [
    "shared_network = tf.keras.Sequential()\n",
    "shared_network.add(tf.keras.layers.GRU(513, return_sequences=True))\n",
    "shared_network.add(tf.keras.layers.Dropout(rate = 0.2))\n",
    "shared_network.add(tf.keras.layers.GRU(513, return_sequences=False))\n",
    "# shared_network.add(tf.keras.layers.Dropout(rate = 0.2))\n",
    "# shared_network.add(tf.keras.layers.Dense(50, activation = 'relu'))\n",
    "\n",
    "sound_A_input = tf.keras.layers.Input((43, 513), name='sound_A')\n",
    "sound_B_input = tf.keras.layers.Input((43, 513), name='sound_B')\n",
    "\n",
    "feature_vector_A = shared_network(sound_A_input)\n",
    "feature_vector_B = shared_network(sound_B_input)\n",
    "\n",
    "dot_product = tf.matmul(feature_vector_A, tf.transpose(feature_vector_B))\n",
    "vect = tf.linalg.diag_part(dot_product)\n",
    "output = tf.keras.layers.Activation('sigmoid')(vect)\n",
    "output = tf.reshape(output, [-1, 1])\n",
    "\n",
    "siamese_model = tf.keras.models.Model(inputs=[sound_A_input, sound_B_input], outputs=output)"
   ]
  },
  {
   "cell_type": "code",
   "execution_count": null,
   "id": "7bd379a2-e2e5-4166-9e24-fc5dc05c4c55",
   "metadata": {
    "tags": []
   },
   "outputs": [],
   "source": [
    "optimizer = tf.keras.optimizers.legacy.Adam(learning_rate=0.0001)\n",
    "siamese_model.compile(optimizer=optimizer, loss='mse', metrics=[tf.keras.metrics.BinaryAccuracy()])\n",
    "Accuracy_siamese = siamese_model.fit([stft_data_train[:,0,:,:], stft_data_train[:,1,:,:]], labels_train, \n",
    "                                     epochs=70, batch_size=90,\n",
    "                                     validation_data=([stft_data_test[:,0,:,:], stft_data_test[:,1,:,:]], labels_test))"
   ]
  },
  {
   "cell_type": "code",
   "execution_count": 29,
   "id": "9ee97509-eccf-48c9-9c99-134da7387736",
   "metadata": {},
   "outputs": [
    {
     "data": {
      "text/plain": [
       "<matplotlib.legend.Legend at 0x2ff254510>"
      ]
     },
     "execution_count": 29,
     "metadata": {},
     "output_type": "execute_result"
    },
    {
     "data": {
      "image/png": "[encoded data removed]",
      "text/plain": [
       "<Figure size 640x480 with 1 Axes>"
      ]
     },
     "metadata": {},
     "output_type": "display_data"
    }
   ],
   "source": [
    "accu = Accuracy_siamese.history['val_binary_accuracy']\n",
    "accu_train = Accuracy_siamese.history['binary_accuracy']\n",
    "plt.figure()\n",
    "plt.plot(accu, label='Test Accuracy')\n",
    "plt.plot(accu_train, label='Train Accuracy')\n",
    "plt.title('Accuracy Plot')\n",
    "plt.xlabel('Epoch')\n",
    "plt.ylabel('Test Accuracy')\n",
    "plt.legend()"
   ]
  }
 ],
 "metadata": {
  "kernelspec": {
   "display_name": "Python 3 (ipykernel)",
   "language": "python",
   "name": "python3"
  },
  "language_info": {
   "codemirror_mode": {
    "name": "ipython",
    "version": 3
   },
   "file_extension": ".py",
   "mimetype": "text/x-python",
   "name": "python",
   "nbconvert_exporter": "python",
   "pygments_lexer": "ipython3",
   "version": "3.11.5"
  }
 },
 "nbformat": 4,
 "nbformat_minor": 5
}
